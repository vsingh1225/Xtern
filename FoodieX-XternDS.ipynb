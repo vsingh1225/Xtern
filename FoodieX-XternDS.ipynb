{
 "cells": [
  {
   "cell_type": "code",
   "execution_count": 36,
   "metadata": {},
   "outputs": [],
   "source": [
    "import pandas as pd\n",
    "import numpy as np\n",
    "from scipy.stats import ttest_ind\n",
    "import plotly\n",
    "import plotly.express as px\n",
    "from IPython.display import IFrame"
   ]
  },
  {
   "cell_type": "code",
   "execution_count": 37,
   "metadata": {},
   "outputs": [],
   "source": [
    "restaurants = pd.read_csv('D:/2020-XTern-DS.csv') #Read in data"
   ]
  },
  {
   "cell_type": "code",
   "execution_count": 38,
   "metadata": {},
   "outputs": [],
   "source": [
    "no_data = restaurants['Rating'].isin(['-', 'NEW', 'Opening Soon']) | restaurants['Reviews'].isin(['-', 'NEW', 'Opening Soon']) #split up data between new and est. restaurants\n",
    "new_set = restaurants[restaurants['Rating'].isin(['-', 'NEW', 'Opening Soon'])]\n",
    "main_set = restaurants[~no_data]"
   ]
  },
  {
   "cell_type": "code",
   "execution_count": 39,
   "metadata": {
    "scrolled": true
   },
   "outputs": [],
   "source": [
    "main_set = main_set.sort_values(by='Rating', ascending=False) #Main set with all restaurants"
   ]
  },
  {
   "cell_type": "code",
   "execution_count": 40,
   "metadata": {},
   "outputs": [
    {
     "name": "stderr",
     "output_type": "stream",
     "text": [
      "<ipython-input-40-1e9c8133ca27>:5: UserWarning:\n",
      "\n",
      "Boolean Series key will be reindexed to match DataFrame index.\n",
      "\n"
     ]
    }
   ],
   "source": [
    "#Quick glance at the data set showed that main cuisines were Indian, Chinese, and others, so sort the data as such.\n",
    "indian = main_set[main_set['Cuisines'].str.contains('Indian')]\n",
    "chinese = main_set[main_set['Cuisines'].str.contains('Chinese')]\n",
    "other = main_set[~main_set['Cuisines'].str.contains('Indian')]\n",
    "other = other[~main_set['Cuisines'].str.contains('Chinese')]"
   ]
  },
  {
   "cell_type": "code",
   "execution_count": 41,
   "metadata": {},
   "outputs": [
    {
     "name": "stderr",
     "output_type": "stream",
     "text": [
      "<ipython-input-41-f8e30440e3eb>:2: UserWarning:\n",
      "\n",
      "Boolean Series key will be reindexed to match DataFrame index.\n",
      "\n",
      "<ipython-input-41-f8e30440e3eb>:3: UserWarning:\n",
      "\n",
      "Boolean Series key will be reindexed to match DataFrame index.\n",
      "\n",
      "<ipython-input-41-f8e30440e3eb>:4: UserWarning:\n",
      "\n",
      "Boolean Series key will be reindexed to match DataFrame index.\n",
      "\n"
     ]
    }
   ],
   "source": [
    "#clears the data of new restaurants (double checks)\n",
    "indian = indian[~no_data]\n",
    "chinese = chinese[~no_data]\n",
    "other = other[~no_data]"
   ]
  },
  {
   "cell_type": "code",
   "execution_count": 42,
   "metadata": {},
   "outputs": [],
   "source": [
    "#Converts certain columns into a more usable format (i.e. string to int or float)\n",
    "def cooktime(input):\n",
    "    return int(input[:2])\n",
    "\n",
    "indian.loc[:,'Cook_Time'] = indian['Cook_Time'].apply(cooktime)\n",
    "chinese.loc[:,'Cook_Time'] = chinese['Cook_Time'].apply(cooktime)\n",
    "other.loc[:,'Cook_Time'] = other['Cook_Time'].apply(cooktime)\n",
    "new_set.loc[:,'Cook_Time'] = new_set['Cook_Time'].apply(cooktime)\n",
    "main_set.loc[:,'Cook_Time'] = main_set['Cook_Time'].apply(cooktime)\n",
    "\n",
    "\n",
    "def money_to_float(input):\n",
    "    return float(input[1:])\n",
    "indian.loc[:,'Minimum_Order'] = indian['Minimum_Order'].apply(money_to_float)\n",
    "chinese.loc[:,'Minimum_Order'] = chinese['Minimum_Order'].apply(money_to_float)\n",
    "other.loc[:,'Minimum_Order'] = other['Minimum_Order'].apply(money_to_float)\n",
    "\n",
    "indian.loc[:,'Reviews'] = indian['Reviews'].apply(lambda x: int(x))\n",
    "chinese.loc[:,'Reviews'] = chinese['Reviews'].apply(lambda x: int(x))\n",
    "other.loc[:,'Reviews'] = other['Reviews'].apply(lambda x: int(x))\n",
    "main_set.loc[:,'Reviews'] = main_set['Reviews'].apply(lambda x: int(x))"
   ]
  },
  {
   "cell_type": "code",
   "execution_count": 43,
   "metadata": {},
   "outputs": [
    {
     "data": {
      "text/plain": [
       "55.64671814671814"
      ]
     },
     "execution_count": 43,
     "metadata": {},
     "output_type": "execute_result"
    }
   ],
   "source": [
    "indian['Minimum_Order'].mean()\n",
    "chinese['Minimum_Order'].mean()\n",
    "#No significant difference in minimum order amount"
   ]
  },
  {
   "cell_type": "code",
   "execution_count": 44,
   "metadata": {},
   "outputs": [
    {
     "data": {
      "text/plain": [
       "'main_set.html'"
      ]
     },
     "execution_count": 44,
     "metadata": {},
     "output_type": "execute_result"
    }
   ],
   "source": [
    "#Main points of analysis: graphed it by location, set the color to how long cook time was\n",
    "#and set the size to the number of votes/ratings, \n",
    "indian_graph = px.scatter(indian, title=\"Indian Restaurants\",x=\"Latitude\", y=\"Longitude\", color=\"Cook_Time\", size=\"Reviews\", hover_data=[\"Rating\"])\n",
    "chinese_graph = px.scatter(chinese, title=\"Chinese Restaurants\", x=\"Latitude\", y=\"Longitude\", color=\"Cook_Time\", size=\"Reviews\", hover_data=[\"Rating\"])\n",
    "other_graph = px.scatter(other, title=\"All Other Restaurants\", x=\"Latitude\", y=\"Longitude\", color=\"Cook_Time\", size=\"Reviews\", hover_data=[\"Rating\"])\n",
    "new_set_graph = px.scatter(new_set, title=\"Newer Restaurants\", x=\"Latitude\", y=\"Longitude\", color=\"Cook_Time\", hover_data=[\"Cuisines\"])\n",
    "main_set_graph = px.scatter(main_set, title=\"All Restaurants\", x=\"Latitude\", y=\"Longitude\", color=\"Cook_Time\", size=\"Reviews\", hover_data=[\"Rating\"])\n",
    "plotly.offline.plot(indian_graph, filename='indian.html', auto_open=False)\n",
    "plotly.offline.plot(chinese_graph, filename='chinese.html', auto_open=False)\n",
    "plotly.offline.plot(other_graph, filename='other.html', auto_open=False)\n",
    "plotly.offline.plot(new_set_graph, filename='new_set.html', auto_open=False)\n",
    "plotly.offline.plot(main_set_graph, filename='main_set.html', auto_open=False)\n"
   ]
  },
  {
   "cell_type": "markdown",
   "metadata": {},
   "source": [
    "---\n",
    "# Conclusions\n",
    "From the graphs shown in the HTML files and the the way they are organized, the best places for consumers to order from are data points that are colored more darkly, and are preferably larger (and more noticeable), as those would imply the restaurant is reliable and efficient. From that criteria, we can derive the following:\n",
    "NOTE: Key for file names\n",
    "chinese.html - chinese restaurant\n",
    "indian.html - indian restaurant\n",
    "1. People tend to order from places that sell Chinese food the most, and although cook times wildly varied, there seemed to be a preference for that cuisine. This was followed by \"other\" cuisine, meaning neither chinese nor indian, and then indian, and was measured by the amount of reviews left.\n",
    "2. Indian food takes the longest to prepare and cook, evident by the number of data points that are colored to the end of the spectrum that shows a higher cooking time. On the flip side, \"other\" cuisine seemed to take the least amount of time to prepare.\n",
    "3. Geographical location does not seem to have an effect on how many people ordered from a place, although there are certain locations on graphs that do seem to correlate with a spike in popularity. For example, in the graph for chinese restaurants, a latitude of ~39.75 and Longitude of -84.4-(-84.6) seemed to be a hotspot for relatively popular restaurants. However, a vast majority of the areas in others show almost no correlation.\n",
    "4. There is (surprisingly) not a very strong correlation between the time to cook, number of reviews, and the average rating (shown in the hover data). If there is a very high cooking time, then there is always an above average amount of reviews, and tends to be on the lower side (below 4.5). Those that are darker colored (meaning lower cooking time), and have a large amount of reviews, on the other hand, tend to have a mix of ratings, however, ranging from below 4, all the way to above 4.5."
   ]
  }
 ],
 "metadata": {
  "kernelspec": {
   "display_name": "Python 3",
   "language": "python",
   "name": "python3"
  },
  "language_info": {
   "codemirror_mode": {
    "name": "ipython",
    "version": 3
   },
   "file_extension": ".py",
   "mimetype": "text/x-python",
   "name": "python",
   "nbconvert_exporter": "python",
   "pygments_lexer": "ipython3",
   "version": "3.8.3"
  },
  "widgets": {
   "application/vnd.jupyter.widget-state+json": {
    "state": {},
    "version_major": 2,
    "version_minor": 0
   }
  }
 },
 "nbformat": 4,
 "nbformat_minor": 4
}
